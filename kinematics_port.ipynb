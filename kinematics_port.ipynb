{
 "cells": [
  {
   "cell_type": "code",
   "execution_count": 1,
   "metadata": {},
   "outputs": [],
   "source": [
    "import numpy as np\n",
    "import math\n",
    "import matplotlib.pyplot as plt\n",
    "from scipy.integrate import odeint, solve_ivp"
   ]
  },
  {
   "cell_type": "code",
   "execution_count": 2,
   "metadata": {},
   "outputs": [],
   "source": [
    "## Robot parameters\n",
    "L = 2\n",
    "W = 3\n",
    "R = 0.25 # Wheel radius (m)\n",
    "## Simulation Parameters\n",
    "dt = 0.5 # step size\n",
    "ts = 10 # simulation time\n",
    "t=np.arange(0,ts,dt)\n",
    "thresh = 0.000001 #threshold for jackobian to zero values this close to zero"
   ]
  },
  {
   "cell_type": "code",
   "execution_count": 3,
   "metadata": {},
   "outputs": [],
   "source": [
    "## Initial conditions\n",
    "x0 = 0 # x position\n",
    "y0 = 0 # y position \n",
    "theta0 = np.pi/2 # orientation"
   ]
  },
  {
   "cell_type": "code",
   "execution_count": 4,
   "metadata": {},
   "outputs": [],
   "source": [
    "eta0 = np.matrix([[x0],[y0],[theta0]]) # initial conditions of states [x, y, theta]^T\n",
    "eta = np.matrix(np.empty((3,1)))\n",
    "eta[:,0] = eta0\n",
    "#eta(:,1) = eta0 # create eta matrix"
   ]
  },
  {
   "cell_type": "code",
   "execution_count": 5,
   "metadata": {},
   "outputs": [
    {
     "name": "stdout",
     "output_type": "stream",
     "text": [
      "[[0.        ]\n",
      " [0.        ]\n",
      " [1.57079633]]\n",
      "1.5707963267948966\n"
     ]
    }
   ],
   "source": [
    "print(eta)\n",
    "print(eta[2,0])"
   ]
  },
  {
   "cell_type": "code",
   "execution_count": 6,
   "metadata": {},
   "outputs": [],
   "source": [
    "zeta = np.matrix(np.empty((3,1)))\n",
    "## Simulation loop\n",
    "for i in range(len(t)):\n",
    "    theta = eta[2,i] # current orientation in radians\n",
    "    \n",
    "    # R = np.matrix(  [[np.cos(theta), -1*np.sin(theta),  0],\n",
    "    #                 [np.sin(theta), np.cos(theta),  0],\n",
    "    #                 [0,           0,           1]])\n",
    "    \n",
    "    A = np.matrix(  [[-1, 1, -1, 1],\n",
    "                    [1, 1, 1, 1],\n",
    "                    [1/(L+W), -1/(L+W), -1/(L+W), 1/(L+W)]])\n",
    "    \n",
    "    dir = 'diagfr'\n",
    "    vel = 5 #wheel speed [rad/s]\n",
    "\n",
    "    if dir == 'fwd': #forward\n",
    "            phi_dot = np.matrix([[vel], [vel], [vel], [vel]]) # wheel angular velocity matrix\n",
    "    elif dir == 'bwd': #backward\n",
    "            phi_dot = np.matrix([[-vel], [-vel], [-vel], [-vel]]) # wheel angular velocity matrix\n",
    "    elif dir == 'left': #strafe left\n",
    "            phi_dot = np.matrix([[vel], [-vel], [vel], [-vel]]) # wheel angular velocity matrix\n",
    "    elif dir == 'right': #strafe right\n",
    "            phi_dot = np.matrix([[-vel], [vel], [-vel], [vel]]) # wheel angular velocity matrix\n",
    "    elif dir == 'diagfl': #diagonal forward left\n",
    "            phi_dot = np.matrix([[vel], [0], [vel], [0]]) # wheel angular velocity matrix\n",
    "    elif dir == 'diagfr': #diagonal forward right\n",
    "            phi_dot = np.matrix([[0], [vel], [0], [vel]]) # wheel angular velocity matrix\n",
    "    elif dir == 'diagbl': #diagonal back left\n",
    "            phi_dot = np.matrix([[0], [-vel], [0], [-vel]]) # wheel angular velocity matrix\n",
    "    elif dir == 'diagbr': #diagonal back right\n",
    "            phi_dot = np.matrix([[-vel], [0], [-vel], [0]]) # wheel angular velocity matrix\n",
    "    elif dir == 'rot_ccw': #rotate ccw\n",
    "            phi_dot = np.matrix([[vel], [-vel], [-vel], [vel]]) # wheel angular velocity matrix\n",
    "    elif dir == 'rot_cw': #rotate ccw\n",
    "            phi_dot = np.matrix([[-vel], [vel], [vel], [-vel]]) # wheel angular velocity matrix\n",
    "\n",
    "\n",
    "    zeta = np.c_[zeta, np.matrix(np.empty((3,1)))]\n",
    "    zeta[:,i] = R * A * phi_dot\n",
    "    #temp = (R/4) * A * phi\n",
    "    \n",
    "    #zeta = np.c_[zeta, temp]\n",
    "\n",
    "    x = np.where(np.logical_and(zeta>-thresh, zeta<0))\n",
    "    zeta[x] = 0\n",
    "\n",
    "    x = np.where(np.logical_and(zeta>0, zeta<thresh))\n",
    "    zeta[x] = 0\n",
    "    \n",
    "    \n",
    "    #position update with euler method\n",
    "    #print(eta[:,i])\n",
    "    #print(dt * zeta[:,i])\n",
    "\n",
    "    eta = np.c_[eta, np.matrix(np.empty((3,1)))]\n",
    "    eta[:,i+1] = eta[:,i] + (dt * zeta[:,i]) # update state matrix (states = time step * states_dot)\n",
    "    \n",
    "    #temp = eta[:,i] + (dt * zeta[:,i]) # update state matrix (states = time step * states_dot)\n",
    "    #eta = np.c_[eta, temp]"
   ]
  },
  {
   "cell_type": "code",
   "execution_count": 7,
   "metadata": {},
   "outputs": [
    {
     "data": {
      "image/png": "[encoded data removed]",
      "text/plain": [
       "<Figure size 720x720 with 1 Axes>"
      ]
     },
     "metadata": {
      "needs_background": "light"
     },
     "output_type": "display_data"
    }
   ],
   "source": [
    "plt.figure(figsize = (10,10))\n",
    "X = np.asarray(eta[0,:])\n",
    "Y = np.asarray(eta[1,:])\n",
    "THETA = np.asarray(eta[2,:])\n",
    "U = np.cos(THETA)\n",
    "V = np.sin(THETA)\n",
    "plt.scatter(np.array(eta[0,:]),np.array(eta[1,:]))\n",
    "plt.quiver(X,Y,U,V,scale=15,width=0.005)\n",
    "plt.scatter(0,0, c='red')\n",
    "plt.show()"
   ]
  },
  {
   "cell_type": "code",
   "execution_count": null,
   "metadata": {},
   "outputs": [],
   "source": []
  },
  {
   "cell_type": "markdown",
   "metadata": {},
   "source": []
  }
 ],
 "metadata": {
  "interpreter": {
   "hash": "65c0cf972fe55eaf0c962c4929f592d86a72c532b00283f932a90435beee88e0"
  },
  "kernelspec": {
   "display_name": "Python 3.7.11 ('bayesianNN')",
   "language": "python",
   "name": "python3"
  },
  "language_info": {
   "codemirror_mode": {
    "name": "ipython",
    "version": 3
   },
   "file_extension": ".py",
   "mimetype": "text/x-python",
   "name": "python",
   "nbconvert_exporter": "python",
   "pygments_lexer": "ipython3",
   "version": "3.7.11"
  },
  "orig_nbformat": 4
 },
 "nbformat": 4,
 "nbformat_minor": 2
}
